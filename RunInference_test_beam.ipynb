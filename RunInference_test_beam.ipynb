{
 "cells": [
  {
   "cell_type": "code",
   "execution_count": 36,
   "id": "a20e95ed-0bbc-4def-8383-43cede74a2b2",
   "metadata": {
    "tags": []
   },
   "outputs": [],
   "source": [
    "import google.cloud.aiplatform as aip"
   ]
  },
  {
   "cell_type": "code",
   "execution_count": 37,
   "id": "534c29c4-24b2-4c97-94a9-e957b4de1acb",
   "metadata": {
    "tags": []
   },
   "outputs": [],
   "source": [
    "project = \"vertex-ai-382806\"\n",
    "location = \"us-central1\"\n",
    "aip.init(project=project, location=location)"
   ]
  },
  {
   "cell_type": "code",
   "execution_count": 38,
   "id": "c4b90099-4034-45f0-8917-0f86b63f9edc",
   "metadata": {
    "tags": []
   },
   "outputs": [],
   "source": [
    "endpoint_id = \"7747939582565416960\"\n",
    "endpoint=aip.Endpoint(endpoint_name=endpoint_id)"
   ]
  },
  {
   "cell_type": "code",
   "execution_count": 39,
   "id": "763ee039-92c1-41c3-8cb8-85dcbfcfa7df",
   "metadata": {
    "tags": []
   },
   "outputs": [
    {
     "data": {
      "text/plain": [
       "'churn'"
      ]
     },
     "execution_count": 39,
     "metadata": {},
     "output_type": "execute_result"
    }
   ],
   "source": [
    "endpoint.list_models()[0].display_name"
   ]
  },
  {
   "cell_type": "code",
   "execution_count": 25,
   "id": "5684a6c7-70e7-4b18-b57d-3c5466c5137c",
   "metadata": {
    "tags": []
   },
   "outputs": [],
   "source": [
    "import apache_beam as beam\n",
    "from apache_beam.ml.inference.vertex_ai_inference import VertexAIModelHandlerJSON\n",
    "from apache_beam.ml.inference.base import PredictionResult\n",
    "from apache_beam.ml.inference.base import RunInference\n",
    "from apache_beam.options.pipeline_options import PipelineOptions\n",
    "from collections.abc import Iterable\n",
    "import json\n",
    "import ast\n",
    "\n",
    "\n",
    "from google.protobuf import json_format\n",
    "from google.protobuf.struct_pb2 import Value"
   ]
  },
  {
   "cell_type": "code",
   "execution_count": null,
   "id": "a2d2bd2d-fb60-4151-9e35-7af82efc7f42",
   "metadata": {
    "tags": []
   },
   "outputs": [],
   "source": [
    "#model_handler = VertexAIModelHandlerJSON(endpoint_id=endpoint_id, project=project, location=location) #.with_preprocess_fn(preprocess_image).with_preprocess_fn(download_image)\n"
   ]
  },
  {
   "cell_type": "code",
   "execution_count": null,
   "id": "711ce4f3-4ca8-4ffa-b4e9-008c3a5d035a",
   "metadata": {},
   "outputs": [],
   "source": [
    "example_json = b\"\"\"{\n",
    "\"user_pseudo_id\": \"1BE4F29852B390FC94D2A4E7382CCEBD\",\n",
    "\"country\": \"Taiwan\",\n",
    "\"operating_system\": \"ANDROID\",\n",
    "\"language\": \"zh-tw\",\n",
    "\"cnt_user_engagement\": 71,\n",
    "\"cnt_level_start_quickplay\": 28,\n",
    "\"cnt_level_end_quickplay\": 18,\n",
    "\"cnt_level_complete_quickplay\": 13,\n",
    "\"cnt_level_reset_quickplay\": 0,\n",
    "\"cnt_post_score\": 13,\n",
    "\"cnt_spend_virtual_currency\": 0,\n",
    "\"cnt_ad_reward\": 0,\n",
    "\"cnt_challenge_a_friend\": 0,\n",
    "\"cnt_completed_5_levels\": 0,\n",
    "\"cnt_use_extra_steps\": 0,\n",
    "\"month\": 9,\n",
    "\"julianday\": 256,\n",
    "\"dayofweek\": 5\n",
    "}\n",
    "\"\"\""
   ]
  },
  {
   "cell_type": "code",
   "execution_count": null,
   "id": "202c9fcd-5292-4cbe-8d1b-ab08e619266d",
   "metadata": {
    "jupyter": {
     "source_hidden": true
    },
    "tags": []
   },
   "outputs": [],
   "source": [
    "instances_initial = {\n",
    "\"user_pseudo_id\": \"1BE4F29852B390FC94D2A4E7382CCEBD\",\n",
    "\"country\": \"Taiwan\",\n",
    "\"operating_system\": \"ANDROID\",\n",
    "\"language\": \"zh-tw\",\n",
    "\"cnt_user_engagement\": 71,\n",
    "\"cnt_level_start_quickplay\": 28,\n",
    "\"cnt_level_end_quickplay\": 18,\n",
    "\"cnt_level_complete_quickplay\": 13,\n",
    "\"cnt_level_reset_quickplay\": 0,\n",
    "\"cnt_post_score\": 13,\n",
    "\"cnt_spend_virtual_currency\": 0,\n",
    "\"cnt_ad_reward\": 0,\n",
    "\"cnt_challenge_a_friend\": 0,\n",
    "\"cnt_completed_5_levels\": 0,\n",
    "\"cnt_use_extra_steps\": 0,\n",
    "\"month\": 9,\n",
    "\"julianday\": 256,\n",
    "\"dayofweek\": 5\n",
    "}"
   ]
  },
  {
   "cell_type": "code",
   "execution_count": 26,
   "id": "7f9fa35e-cd82-4615-810c-8fc56b49047c",
   "metadata": {
    "tags": []
   },
   "outputs": [],
   "source": [
    "class Preprocess(beam.DoFn):\n",
    "    def __init__(self):\n",
    "        from google.protobuf import json_format\n",
    "        from google.protobuf.struct_pb2 import Value\n",
    "        \n",
    "    def process(self, message):\n",
    "        from google.protobuf import json_format\n",
    "        from google.protobuf.struct_pb2 import Value\n",
    "        #message_list = [ast.literal_eval(message.decode(\"utf-8\"))]\n",
    "        message_list = [json.loads(message.decode(\"utf-8\"))]\n",
    "        return [json_format.ParseDict(instance_dict, Value()) for instance_dict in message_list]\n",
    "        \n",
    "class Postprocess(beam.DoFn):\n",
    "    def __init__(self):\n",
    "        pass\n",
    "    \n",
    "    def process(self, element):\n",
    "        print(\"New Message:\")\n",
    "        input_example = element.example\n",
    "        prediction_vals = element.inference\n",
    "        \n",
    "        print(\"input:\")\n",
    "        print(input_example.struct_value[\"user_pseudo_id\"])#.get(\"user_pseudo_id\"))\n",
    "        print(\"predictions:\")\n",
    "        print(prediction_vals[\"predicted_churned\"][0])\n",
    "        print(max(prediction_vals[\"churned_probs\"]))\n",
    "        print(\"\\n\")\n",
    "        \n",
    "        return [{\"user_pseudo_id\": input_example.struct_value[\"user_pseudo_id\"], \"churn\": prediction_vals[\"predicted_churned\"][0], \"probability\": max(prediction_vals[\"churned_probs\"])}]"
   ]
  },
  {
   "cell_type": "code",
   "execution_count": 40,
   "id": "0c08deed-03bc-400a-83f6-711f2ba9c630",
   "metadata": {
    "tags": []
   },
   "outputs": [
    {
     "name": "stderr",
     "output_type": "stream",
     "text": [
      "WARNING:apache_beam.options.pipeline_options:Discarding unparseable args: ['-f', '/home/jupyter/.local/share/jupyter/runtime/kernel-e550c7b0-fe98-4b16-94d1-a161b824eb1b.json']\n"
     ]
    },
    {
     "name": "stdout",
     "output_type": "stream",
     "text": [
      "New Message:\n",
      "input:\n",
      "1BE4F29852B390FC94D2A4E7382CCEBD\n",
      "predictions:\n",
      "1\n",
      "0.870379335564385\n",
      "\n",
      "\n"
     ]
    },
    {
     "ename": "KeyboardInterrupt",
     "evalue": "",
     "output_type": "error",
     "traceback": [
      "\u001b[0;31m---------------------------------------------------------------------------\u001b[0m",
      "\u001b[0;31mKeyboardInterrupt\u001b[0m                         Traceback (most recent call last)",
      "Cell \u001b[0;32mIn[40], line 8\u001b[0m\n\u001b[1;32m      4\u001b[0m \u001b[38;5;66;03m# options=pipeline_options\u001b[39;00m\n\u001b[1;32m      6\u001b[0m pipeline_options \u001b[38;5;241m=\u001b[39m PipelineOptions(streaming\u001b[38;5;241m=\u001b[39m\u001b[38;5;28;01mTrue\u001b[39;00m)\n\u001b[0;32m----> 8\u001b[0m \u001b[38;5;28;01mwith\u001b[39;00m beam\u001b[38;5;241m.\u001b[39mPipeline(options\u001b[38;5;241m=\u001b[39mpipeline_options) \u001b[38;5;28;01mas\u001b[39;00m p:\n\u001b[1;32m      9\u001b[0m         elements \u001b[38;5;241m=\u001b[39m (  \n\u001b[1;32m     10\u001b[0m             p  \u001b[38;5;241m|\u001b[39m \u001b[38;5;124m\"\u001b[39m\u001b[38;5;124mRead PubSub\u001b[39m\u001b[38;5;124m\"\u001b[39m  \u001b[38;5;241m>>\u001b[39m beam\u001b[38;5;241m.\u001b[39mio\u001b[38;5;241m.\u001b[39mReadFromPubSub(\n\u001b[1;32m     11\u001b[0m                 subscription\u001b[38;5;241m=\u001b[39msubscription\n\u001b[0;32m   (...)\u001b[0m\n\u001b[1;32m     20\u001b[0m             \u001b[38;5;66;03m#| \"print3\" >> beam.Map(print)\u001b[39;00m\n\u001b[1;32m     21\u001b[0m         )\n",
      "File \u001b[0;32m/opt/conda/lib/python3.10/site-packages/apache_beam/pipeline.py:601\u001b[0m, in \u001b[0;36mPipeline.__exit__\u001b[0;34m(self, exc_type, exc_val, exc_tb)\u001b[0m\n\u001b[1;32m    599\u001b[0m   \u001b[38;5;28;01mif\u001b[39;00m \u001b[38;5;129;01mnot\u001b[39;00m exc_type:\n\u001b[1;32m    600\u001b[0m     \u001b[38;5;28mself\u001b[39m\u001b[38;5;241m.\u001b[39mresult \u001b[38;5;241m=\u001b[39m \u001b[38;5;28mself\u001b[39m\u001b[38;5;241m.\u001b[39mrun()\n\u001b[0;32m--> 601\u001b[0m     \u001b[38;5;28;43mself\u001b[39;49m\u001b[38;5;241;43m.\u001b[39;49m\u001b[43mresult\u001b[49m\u001b[38;5;241;43m.\u001b[39;49m\u001b[43mwait_until_finish\u001b[49m\u001b[43m(\u001b[49m\u001b[43m)\u001b[49m\n\u001b[1;32m    602\u001b[0m \u001b[38;5;28;01mfinally\u001b[39;00m:\n\u001b[1;32m    603\u001b[0m   \u001b[38;5;28mself\u001b[39m\u001b[38;5;241m.\u001b[39m_extra_context\u001b[38;5;241m.\u001b[39m\u001b[38;5;21m__exit__\u001b[39m(exc_type, exc_val, exc_tb)\n",
      "File \u001b[0;32m/opt/conda/lib/python3.10/site-packages/apache_beam/runners/direct/direct_runner.py:585\u001b[0m, in \u001b[0;36mDirectPipelineResult.wait_until_finish\u001b[0;34m(self, duration)\u001b[0m\n\u001b[1;32m    582\u001b[0m   \u001b[38;5;28;01mraise\u001b[39;00m \u001b[38;5;167;01mNotImplementedError\u001b[39;00m(\n\u001b[1;32m    583\u001b[0m       \u001b[38;5;124m'\u001b[39m\u001b[38;5;124mDirectRunner does not support duration argument.\u001b[39m\u001b[38;5;124m'\u001b[39m)\n\u001b[1;32m    584\u001b[0m \u001b[38;5;28;01mtry\u001b[39;00m:\n\u001b[0;32m--> 585\u001b[0m   \u001b[38;5;28;43mself\u001b[39;49m\u001b[38;5;241;43m.\u001b[39;49m\u001b[43m_executor\u001b[49m\u001b[38;5;241;43m.\u001b[39;49m\u001b[43mawait_completion\u001b[49m\u001b[43m(\u001b[49m\u001b[43m)\u001b[49m\n\u001b[1;32m    586\u001b[0m   \u001b[38;5;28mself\u001b[39m\u001b[38;5;241m.\u001b[39m_state \u001b[38;5;241m=\u001b[39m PipelineState\u001b[38;5;241m.\u001b[39mDONE\n\u001b[1;32m    587\u001b[0m \u001b[38;5;28;01mexcept\u001b[39;00m:  \u001b[38;5;66;03m# pylint: disable=broad-except\u001b[39;00m\n",
      "File \u001b[0;32m/opt/conda/lib/python3.10/site-packages/apache_beam/runners/direct/executor.py:432\u001b[0m, in \u001b[0;36mExecutor.await_completion\u001b[0;34m(self)\u001b[0m\n\u001b[1;32m    431\u001b[0m \u001b[38;5;28;01mdef\u001b[39;00m \u001b[38;5;21mawait_completion\u001b[39m(\u001b[38;5;28mself\u001b[39m):\n\u001b[0;32m--> 432\u001b[0m   \u001b[38;5;28;43mself\u001b[39;49m\u001b[38;5;241;43m.\u001b[39;49m\u001b[43m_executor\u001b[49m\u001b[38;5;241;43m.\u001b[39;49m\u001b[43mawait_completion\u001b[49m\u001b[43m(\u001b[49m\u001b[43m)\u001b[49m\n",
      "File \u001b[0;32m/opt/conda/lib/python3.10/site-packages/apache_beam/runners/direct/executor.py:477\u001b[0m, in \u001b[0;36m_ExecutorServiceParallelExecutor.await_completion\u001b[0;34m(self)\u001b[0m\n\u001b[1;32m    476\u001b[0m \u001b[38;5;28;01mdef\u001b[39;00m \u001b[38;5;21mawait_completion\u001b[39m(\u001b[38;5;28mself\u001b[39m):\n\u001b[0;32m--> 477\u001b[0m   update \u001b[38;5;241m=\u001b[39m \u001b[38;5;28;43mself\u001b[39;49m\u001b[38;5;241;43m.\u001b[39;49m\u001b[43mvisible_updates\u001b[49m\u001b[38;5;241;43m.\u001b[39;49m\u001b[43mtake\u001b[49m\u001b[43m(\u001b[49m\u001b[43m)\u001b[49m\n\u001b[1;32m    478\u001b[0m   \u001b[38;5;28;01mtry\u001b[39;00m:\n\u001b[1;32m    479\u001b[0m     \u001b[38;5;28;01mif\u001b[39;00m update\u001b[38;5;241m.\u001b[39mexception:\n",
      "File \u001b[0;32m/opt/conda/lib/python3.10/site-packages/apache_beam/runners/direct/executor.py:551\u001b[0m, in \u001b[0;36m_ExecutorServiceParallelExecutor._TypedUpdateQueue.take\u001b[0;34m(self)\u001b[0m\n\u001b[1;32m    549\u001b[0m \u001b[38;5;28;01mwhile\u001b[39;00m \u001b[38;5;28;01mTrue\u001b[39;00m:\n\u001b[1;32m    550\u001b[0m   \u001b[38;5;28;01mtry\u001b[39;00m:\n\u001b[0;32m--> 551\u001b[0m     item \u001b[38;5;241m=\u001b[39m \u001b[38;5;28;43mself\u001b[39;49m\u001b[38;5;241;43m.\u001b[39;49m\u001b[43m_queue\u001b[49m\u001b[38;5;241;43m.\u001b[39;49m\u001b[43mget\u001b[49m\u001b[43m(\u001b[49m\u001b[43mtimeout\u001b[49m\u001b[38;5;241;43m=\u001b[39;49m\u001b[38;5;241;43m1\u001b[39;49m\u001b[43m)\u001b[49m\n\u001b[1;32m    552\u001b[0m     \u001b[38;5;28mself\u001b[39m\u001b[38;5;241m.\u001b[39m_queue\u001b[38;5;241m.\u001b[39mtask_done()\n\u001b[1;32m    553\u001b[0m     \u001b[38;5;28;01mreturn\u001b[39;00m item\n",
      "File \u001b[0;32m/opt/conda/lib/python3.10/queue.py:180\u001b[0m, in \u001b[0;36mQueue.get\u001b[0;34m(self, block, timeout)\u001b[0m\n\u001b[1;32m    178\u001b[0m         \u001b[38;5;28;01mif\u001b[39;00m remaining \u001b[38;5;241m<\u001b[39m\u001b[38;5;241m=\u001b[39m \u001b[38;5;241m0.0\u001b[39m:\n\u001b[1;32m    179\u001b[0m             \u001b[38;5;28;01mraise\u001b[39;00m Empty\n\u001b[0;32m--> 180\u001b[0m         \u001b[38;5;28;43mself\u001b[39;49m\u001b[38;5;241;43m.\u001b[39;49m\u001b[43mnot_empty\u001b[49m\u001b[38;5;241;43m.\u001b[39;49m\u001b[43mwait\u001b[49m\u001b[43m(\u001b[49m\u001b[43mremaining\u001b[49m\u001b[43m)\u001b[49m\n\u001b[1;32m    181\u001b[0m item \u001b[38;5;241m=\u001b[39m \u001b[38;5;28mself\u001b[39m\u001b[38;5;241m.\u001b[39m_get()\n\u001b[1;32m    182\u001b[0m \u001b[38;5;28mself\u001b[39m\u001b[38;5;241m.\u001b[39mnot_full\u001b[38;5;241m.\u001b[39mnotify()\n",
      "File \u001b[0;32m/opt/conda/lib/python3.10/threading.py:324\u001b[0m, in \u001b[0;36mCondition.wait\u001b[0;34m(self, timeout)\u001b[0m\n\u001b[1;32m    322\u001b[0m \u001b[38;5;28;01melse\u001b[39;00m:\n\u001b[1;32m    323\u001b[0m     \u001b[38;5;28;01mif\u001b[39;00m timeout \u001b[38;5;241m>\u001b[39m \u001b[38;5;241m0\u001b[39m:\n\u001b[0;32m--> 324\u001b[0m         gotit \u001b[38;5;241m=\u001b[39m \u001b[43mwaiter\u001b[49m\u001b[38;5;241;43m.\u001b[39;49m\u001b[43macquire\u001b[49m\u001b[43m(\u001b[49m\u001b[38;5;28;43;01mTrue\u001b[39;49;00m\u001b[43m,\u001b[49m\u001b[43m \u001b[49m\u001b[43mtimeout\u001b[49m\u001b[43m)\u001b[49m\n\u001b[1;32m    325\u001b[0m     \u001b[38;5;28;01melse\u001b[39;00m:\n\u001b[1;32m    326\u001b[0m         gotit \u001b[38;5;241m=\u001b[39m waiter\u001b[38;5;241m.\u001b[39macquire(\u001b[38;5;28;01mFalse\u001b[39;00m)\n",
      "\u001b[0;31mKeyboardInterrupt\u001b[0m: "
     ]
    }
   ],
   "source": [
    "model_handler = VertexAIModelHandlerJSON(endpoint_id=endpoint_id, project=project, location=location) #.with_preprocess_fn(preprocess_image).with_preprocess_fn(download_image)\n",
    "subscription = \"projects/vertex-ai-382806/subscriptions/churn_prediction_topic-sub\"\n",
    "bq_location = \"vertex-ai-382806.cloud_summit_demo.predictions\"\n",
    "# options=pipeline_options\n",
    "\n",
    "pipeline_options = PipelineOptions(streaming=True)\n",
    "\n",
    "with beam.Pipeline(options=pipeline_options) as p:\n",
    "        elements = (  \n",
    "            p  | \"Read PubSub\"  >> beam.io.ReadFromPubSub(\n",
    "                subscription=subscription\n",
    "            )#.with_output_types(bytes)\n",
    "           #| \"print1\" >> beam.Map(print)\n",
    "           #| \"Create manual input\" >> beam.Create(instances) \n",
    "           | \"Preprocess\" >> beam.ParDo(Preprocess())\n",
    "           # | \"print2\" >> beam.Map(print)\n",
    "            | \"Run Vertex Inference\" >> RunInference(model_handler)\n",
    "            | \"Process Output\" >> beam.ParDo(Postprocess())\n",
    "            | \"Write to BigQuery\" >> beam.io.WriteToBigQuery(table=bq_location)\n",
    "            #| \"print3\" >> beam.Map(print)\n",
    "        )"
   ]
  },
  {
   "cell_type": "markdown",
   "id": "d24f9abf-398c-41fe-bcbb-ed2802d476f3",
   "metadata": {},
   "source": [
    "# Run Beam pipeline as a Dataflow streaming job"
   ]
  },
  {
   "cell_type": "code",
   "execution_count": 41,
   "id": "bd4f3687-1db1-40ac-8d6d-505d99a74ed6",
   "metadata": {},
   "outputs": [],
   "source": [
    "from apache_beam.runners import DataflowRunner\n"
   ]
  },
  {
   "cell_type": "code",
   "execution_count": 42,
   "id": "6cb86c9f-e3c2-48a6-8fff-74214b1cde56",
   "metadata": {
    "tags": []
   },
   "outputs": [],
   "source": [
    "from apache_beam.options.pipeline_options import GoogleCloudOptions, WorkerOptions, SetupOptions\n",
    "\n",
    "# Set up Apache Beam pipeline options.\n",
    "options = PipelineOptions(streaming = True)\n",
    "\n",
    "# Set the project to the default project in your current Google Cloud\n",
    "# environment.\n",
    "options.view_as(GoogleCloudOptions).project = \"vertex-ai-382806\"\n"
   ]
  },
  {
   "cell_type": "code",
   "execution_count": 43,
   "id": "b039892f-4500-42ab-8d65-7409d9185e74",
   "metadata": {
    "tags": []
   },
   "outputs": [],
   "source": [
    "\n",
    "# Set the Google Cloud region to run Dataflow.\n",
    "options.view_as(GoogleCloudOptions).region = 'us-central1'\n",
    "\n",
    "# Choose a Cloud Storage location.\n",
    "dataflow_gcs_location = 'gs://cloudsummit2024-demo-bucket/dataflow'\n",
    "\n",
    "# Set the staging location. This location is used to stage the\n",
    "# Dataflow pipeline and SDK binary.\n",
    "options.view_as(GoogleCloudOptions).staging_location = '%s/staging' % dataflow_gcs_location\n",
    "\n",
    "# Set the temporary location. This location is used to store temporary files\n",
    "# or intermediate results before outputting to the sink.\n",
    "options.view_as(GoogleCloudOptions).temp_location = '%s/temp' % dataflow_gcs_location\n",
    "\n",
    "#options.view_as(GoogleCloudOptions).streaming = True"
   ]
  },
  {
   "cell_type": "code",
   "execution_count": 44,
   "id": "5db21e71-9a11-481c-b4ab-ea0a01c7066a",
   "metadata": {
    "tags": []
   },
   "outputs": [],
   "source": [
    "options.view_as(WorkerOptions).network = \"default\"\n",
    "options.view_as(WorkerOptions).subnetwork = \"regions/us-central1/subnetworks/uscentral1\""
   ]
  },
  {
   "cell_type": "code",
   "execution_count": 45,
   "id": "57adefd2-2c1d-4341-98be-251b2c77a269",
   "metadata": {
    "tags": []
   },
   "outputs": [],
   "source": [
    "options.view_as(SetupOptions).requirements_file = \"requirements.txt\"\n"
   ]
  },
  {
   "cell_type": "code",
   "execution_count": 46,
   "id": "398f440d-a669-43bd-ae82-b571d8776bff",
   "metadata": {
    "tags": []
   },
   "outputs": [
    {
     "name": "stderr",
     "output_type": "stream",
     "text": [
      "WARNING:apache_beam.options.pipeline_options:Discarding flag -f, single dash flags are not allowed.\n"
     ]
    },
    {
     "data": {
      "text/plain": [
       "{'streaming': True,\n",
       " 'project': 'vertex-ai-382806',\n",
       " 'staging_location': 'gs://cloudsummit2024-demo-bucket/dataflow/staging',\n",
       " 'temp_location': 'gs://cloudsummit2024-demo-bucket/dataflow/temp',\n",
       " 'region': 'us-central1',\n",
       " 'network': 'default',\n",
       " 'subnetwork': 'regions/us-central1/subnetworks/uscentral1',\n",
       " 'requirements_file': 'requirements.txt'}"
      ]
     },
     "execution_count": 46,
     "metadata": {},
     "output_type": "execute_result"
    }
   ],
   "source": [
    "options.display_data()"
   ]
  },
  {
   "cell_type": "code",
   "execution_count": 47,
   "id": "0aaa742d-209a-4dba-b9be-b17ecc7c8276",
   "metadata": {
    "tags": []
   },
   "outputs": [
    {
     "name": "stderr",
     "output_type": "stream",
     "text": [
      "WARNING:apache_beam.options.pipeline_options:Discarding unparseable args: ['-f', '/home/jupyter/.local/share/jupyter/runtime/kernel-e550c7b0-fe98-4b16-94d1-a161b824eb1b.json']\n"
     ]
    }
   ],
   "source": [
    "p = beam.Pipeline(options=options)\n",
    "lines = p  | \"Read PubSub\"  >> beam.io.ReadFromPubSub(\n",
    "                subscription=subscription\n",
    "            ).with_output_types(bytes) | \"Preprocess\" >> beam.ParDo(Preprocess()) | \"Run Vertex Inference\" >> RunInference(model_handler) | \"Process Output\" >> beam.ParDo(Postprocess()) | \"Write to BigQuery\" >> beam.io.WriteToBigQuery(table=bq_location)"
   ]
  },
  {
   "cell_type": "code",
   "execution_count": 48,
   "id": "78e5f227-c05c-466f-93c5-4bd7797704d6",
   "metadata": {
    "tags": []
   },
   "outputs": [
    {
     "name": "stderr",
     "output_type": "stream",
     "text": [
      "WARNING:apache_beam.options.pipeline_options:Discarding flag -f, single dash flags are not allowed.\n",
      "WARNING:apache_beam.options.pipeline_options:Discarding flag -f, single dash flags are not allowed.\n"
     ]
    },
    {
     "data": {
      "text/plain": [
       "<DataflowPipelineResult <Job\n",
       " clientRequestId: '20240606133355431765-9532'\n",
       " createTime: '2024-06-06T13:33:56.361899Z'\n",
       " currentStateTime: '1970-01-01T00:00:00Z'\n",
       " id: '2024-06-06_06_33_55-1477578557408872782'\n",
       " location: 'us-central1'\n",
       " name: 'beamapp-jupyter-0606133355-430931-0izdvjra'\n",
       " projectId: 'vertex-ai-382806'\n",
       " stageStates: []\n",
       " startTime: '2024-06-06T13:33:56.361899Z'\n",
       " steps: []\n",
       " tempFiles: []\n",
       " type: TypeValueValuesEnum(JOB_TYPE_STREAMING, 2)> at 0x7f8616f26710>"
      ]
     },
     "execution_count": 48,
     "metadata": {},
     "output_type": "execute_result"
    }
   ],
   "source": [
    "runner = DataflowRunner()\n",
    "runner.run_pipeline(p, options=options)"
   ]
  },
  {
   "cell_type": "code",
   "execution_count": null,
   "id": "0021565b-81bc-4c17-8d31-0070b2317b34",
   "metadata": {},
   "outputs": [],
   "source": []
  }
 ],
 "metadata": {
  "environment": {
   "kernel": "conda-base-py",
   "name": "workbench-notebooks.m121",
   "type": "gcloud",
   "uri": "us-docker.pkg.dev/deeplearning-platform-release/gcr.io/workbench-notebooks:m121"
  },
  "kernelspec": {
   "display_name": "Python 3 (ipykernel) (Local)",
   "language": "python",
   "name": "conda-base-py"
  },
  "language_info": {
   "codemirror_mode": {
    "name": "ipython",
    "version": 3
   },
   "file_extension": ".py",
   "mimetype": "text/x-python",
   "name": "python",
   "nbconvert_exporter": "python",
   "pygments_lexer": "ipython3",
   "version": "3.10.14"
  }
 },
 "nbformat": 4,
 "nbformat_minor": 5
}
